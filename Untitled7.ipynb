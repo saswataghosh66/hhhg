{
  "nbformat": 4,
  "nbformat_minor": 0,
  "metadata": {
    "colab": {
      "provenance": [],
      "authorship_tag": "ABX9TyObLsMsjCmSm0up4jcvnfGz"
    },
    "kernelspec": {
      "name": "python3",
      "display_name": "Python 3"
    },
    "language_info": {
      "name": "python"
    }
  },
  "cells": [
    {
      "cell_type": "code",
      "execution_count": 1,
      "metadata": {
        "colab": {
          "base_uri": "https://localhost:8080/"
        },
        "id": "FnMd3MFPMhLa",
        "outputId": "26532642-f275-407b-9775-21e9849a9903"
      },
      "outputs": [
        {
          "output_type": "stream",
          "name": "stdout",
          "text": [
            "hello World\n"
          ]
        }
      ],
      "source": [
        "print(\"hello World\")"
      ]
    }
  ]
}